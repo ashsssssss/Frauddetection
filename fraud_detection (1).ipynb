{
 "cells": [
  {
   "cell_type": "code",
   "execution_count": 63,
   "id": "b721001b-be3b-4134-bcb5-0a9d72c0b3af",
   "metadata": {},
   "outputs": [],
   "source": [
    "import warnings\n",
    "warnings.filterwarnings('ignore')\n",
    "import numpy as np\n",
    "import pandas as pd\n",
    "import matplotlib.pyplot as plt\n",
    "import seaborn as sns\n",
    "from collections import Counter\n",
    "from sklearn.model_selection import train_test_split\n",
    "from sklearn.preprocessing import OneHotEncoder, StandardScaler\n",
    "from sklearn.compose import ColumnTransformer\n",
    "from sklearn.pipeline import Pipeline\n",
    "from sklearn.linear_model import LogisticRegression\n",
    "from sklearn.ensemble import RandomForestClassifier\n",
    "from sklearn.metrics import (\n",
    "    roc_auc_score, average_precision_score, roc_curve, precision_recall_curve,\n",
    "    confusion_matrix, classification_report\n",
    ")\n",
    "from sklearn.inspection import permutation_importance\n",
    "from sklearn.linear_model import LinearRegression"
   ]
  },
  {
   "cell_type": "code",
   "execution_count": 15,
   "id": "932f5e5f-d60f-43e6-a006-77b4f577413a",
   "metadata": {},
   "outputs": [],
   "source": [
    "df=pd.read_csv(\"C:\\\\Users\\\\admin\\\\OneDrive\\\\Desktop\\\\Accredian\\\\Fraud.csv\")"
   ]
  },
  {
   "cell_type": "markdown",
   "id": "fcc00cff-688c-43c0-a1f9-30ca83fa0ce8",
   "metadata": {},
   "source": [
    "# 1-DATA CHECKS & CLEANING"
   ]
  },
  {
   "cell_type": "code",
   "execution_count": 21,
   "id": "0ec10a0f-e55b-413e-ac5d-65a48d7cb682",
   "metadata": {},
   "outputs": [
    {
     "data": {
      "text/html": [
       "<div>\n",
       "<style scoped>\n",
       "    .dataframe tbody tr th:only-of-type {\n",
       "        vertical-align: middle;\n",
       "    }\n",
       "\n",
       "    .dataframe tbody tr th {\n",
       "        vertical-align: top;\n",
       "    }\n",
       "\n",
       "    .dataframe thead th {\n",
       "        text-align: right;\n",
       "    }\n",
       "</style>\n",
       "<table border=\"1\" class=\"dataframe\">\n",
       "  <thead>\n",
       "    <tr style=\"text-align: right;\">\n",
       "      <th></th>\n",
       "      <th>step</th>\n",
       "      <th>type</th>\n",
       "      <th>amount</th>\n",
       "      <th>nameOrig</th>\n",
       "      <th>oldbalanceOrg</th>\n",
       "      <th>newbalanceOrig</th>\n",
       "      <th>nameDest</th>\n",
       "      <th>oldbalanceDest</th>\n",
       "      <th>newbalanceDest</th>\n",
       "      <th>isFraud</th>\n",
       "      <th>isFlaggedFraud</th>\n",
       "    </tr>\n",
       "  </thead>\n",
       "  <tbody>\n",
       "    <tr>\n",
       "      <th>0</th>\n",
       "      <td>1</td>\n",
       "      <td>PAYMENT</td>\n",
       "      <td>9839.64</td>\n",
       "      <td>C1231006815</td>\n",
       "      <td>170136.00</td>\n",
       "      <td>160296.36</td>\n",
       "      <td>M1979787155</td>\n",
       "      <td>0.0</td>\n",
       "      <td>0.00</td>\n",
       "      <td>0</td>\n",
       "      <td>0</td>\n",
       "    </tr>\n",
       "    <tr>\n",
       "      <th>1</th>\n",
       "      <td>1</td>\n",
       "      <td>PAYMENT</td>\n",
       "      <td>1864.28</td>\n",
       "      <td>C1666544295</td>\n",
       "      <td>21249.00</td>\n",
       "      <td>19384.72</td>\n",
       "      <td>M2044282225</td>\n",
       "      <td>0.0</td>\n",
       "      <td>0.00</td>\n",
       "      <td>0</td>\n",
       "      <td>0</td>\n",
       "    </tr>\n",
       "    <tr>\n",
       "      <th>2</th>\n",
       "      <td>1</td>\n",
       "      <td>TRANSFER</td>\n",
       "      <td>181.00</td>\n",
       "      <td>C1305486145</td>\n",
       "      <td>181.00</td>\n",
       "      <td>0.00</td>\n",
       "      <td>C553264065</td>\n",
       "      <td>0.0</td>\n",
       "      <td>0.00</td>\n",
       "      <td>1</td>\n",
       "      <td>0</td>\n",
       "    </tr>\n",
       "    <tr>\n",
       "      <th>3</th>\n",
       "      <td>1</td>\n",
       "      <td>CASH_OUT</td>\n",
       "      <td>181.00</td>\n",
       "      <td>C840083671</td>\n",
       "      <td>181.00</td>\n",
       "      <td>0.00</td>\n",
       "      <td>C38997010</td>\n",
       "      <td>21182.0</td>\n",
       "      <td>0.00</td>\n",
       "      <td>1</td>\n",
       "      <td>0</td>\n",
       "    </tr>\n",
       "    <tr>\n",
       "      <th>4</th>\n",
       "      <td>1</td>\n",
       "      <td>PAYMENT</td>\n",
       "      <td>11668.14</td>\n",
       "      <td>C2048537720</td>\n",
       "      <td>41554.00</td>\n",
       "      <td>29885.86</td>\n",
       "      <td>M1230701703</td>\n",
       "      <td>0.0</td>\n",
       "      <td>0.00</td>\n",
       "      <td>0</td>\n",
       "      <td>0</td>\n",
       "    </tr>\n",
       "    <tr>\n",
       "      <th>5</th>\n",
       "      <td>1</td>\n",
       "      <td>PAYMENT</td>\n",
       "      <td>7817.71</td>\n",
       "      <td>C90045638</td>\n",
       "      <td>53860.00</td>\n",
       "      <td>46042.29</td>\n",
       "      <td>M573487274</td>\n",
       "      <td>0.0</td>\n",
       "      <td>0.00</td>\n",
       "      <td>0</td>\n",
       "      <td>0</td>\n",
       "    </tr>\n",
       "    <tr>\n",
       "      <th>6</th>\n",
       "      <td>1</td>\n",
       "      <td>PAYMENT</td>\n",
       "      <td>7107.77</td>\n",
       "      <td>C154988899</td>\n",
       "      <td>183195.00</td>\n",
       "      <td>176087.23</td>\n",
       "      <td>M408069119</td>\n",
       "      <td>0.0</td>\n",
       "      <td>0.00</td>\n",
       "      <td>0</td>\n",
       "      <td>0</td>\n",
       "    </tr>\n",
       "    <tr>\n",
       "      <th>7</th>\n",
       "      <td>1</td>\n",
       "      <td>PAYMENT</td>\n",
       "      <td>7861.64</td>\n",
       "      <td>C1912850431</td>\n",
       "      <td>176087.23</td>\n",
       "      <td>168225.59</td>\n",
       "      <td>M633326333</td>\n",
       "      <td>0.0</td>\n",
       "      <td>0.00</td>\n",
       "      <td>0</td>\n",
       "      <td>0</td>\n",
       "    </tr>\n",
       "    <tr>\n",
       "      <th>8</th>\n",
       "      <td>1</td>\n",
       "      <td>PAYMENT</td>\n",
       "      <td>4024.36</td>\n",
       "      <td>C1265012928</td>\n",
       "      <td>2671.00</td>\n",
       "      <td>0.00</td>\n",
       "      <td>M1176932104</td>\n",
       "      <td>0.0</td>\n",
       "      <td>0.00</td>\n",
       "      <td>0</td>\n",
       "      <td>0</td>\n",
       "    </tr>\n",
       "    <tr>\n",
       "      <th>9</th>\n",
       "      <td>1</td>\n",
       "      <td>DEBIT</td>\n",
       "      <td>5337.77</td>\n",
       "      <td>C712410124</td>\n",
       "      <td>41720.00</td>\n",
       "      <td>36382.23</td>\n",
       "      <td>C195600860</td>\n",
       "      <td>41898.0</td>\n",
       "      <td>40348.79</td>\n",
       "      <td>0</td>\n",
       "      <td>0</td>\n",
       "    </tr>\n",
       "  </tbody>\n",
       "</table>\n",
       "</div>"
      ],
      "text/plain": [
       "   step      type    amount     nameOrig  oldbalanceOrg  newbalanceOrig  \\\n",
       "0     1   PAYMENT   9839.64  C1231006815      170136.00       160296.36   \n",
       "1     1   PAYMENT   1864.28  C1666544295       21249.00        19384.72   \n",
       "2     1  TRANSFER    181.00  C1305486145         181.00            0.00   \n",
       "3     1  CASH_OUT    181.00   C840083671         181.00            0.00   \n",
       "4     1   PAYMENT  11668.14  C2048537720       41554.00        29885.86   \n",
       "5     1   PAYMENT   7817.71    C90045638       53860.00        46042.29   \n",
       "6     1   PAYMENT   7107.77   C154988899      183195.00       176087.23   \n",
       "7     1   PAYMENT   7861.64  C1912850431      176087.23       168225.59   \n",
       "8     1   PAYMENT   4024.36  C1265012928        2671.00            0.00   \n",
       "9     1     DEBIT   5337.77   C712410124       41720.00        36382.23   \n",
       "\n",
       "      nameDest  oldbalanceDest  newbalanceDest  isFraud  isFlaggedFraud  \n",
       "0  M1979787155             0.0            0.00        0               0  \n",
       "1  M2044282225             0.0            0.00        0               0  \n",
       "2   C553264065             0.0            0.00        1               0  \n",
       "3    C38997010         21182.0            0.00        1               0  \n",
       "4  M1230701703             0.0            0.00        0               0  \n",
       "5   M573487274             0.0            0.00        0               0  \n",
       "6   M408069119             0.0            0.00        0               0  \n",
       "7   M633326333             0.0            0.00        0               0  \n",
       "8  M1176932104             0.0            0.00        0               0  \n",
       "9   C195600860         41898.0        40348.79        0               0  "
      ]
     },
     "execution_count": 21,
     "metadata": {},
     "output_type": "execute_result"
    }
   ],
   "source": [
    "df.head(10)"
   ]
  },
  {
   "cell_type": "code",
   "execution_count": 23,
   "id": "64d04b26-d9ec-4ed5-a4aa-0c3c5262df4d",
   "metadata": {},
   "outputs": [
    {
     "name": "stdout",
     "output_type": "stream",
     "text": [
      "<class 'pandas.core.frame.DataFrame'>\n",
      "RangeIndex: 6362620 entries, 0 to 6362619\n",
      "Data columns (total 11 columns):\n",
      " #   Column          Dtype  \n",
      "---  ------          -----  \n",
      " 0   step            int64  \n",
      " 1   type            object \n",
      " 2   amount          float64\n",
      " 3   nameOrig        object \n",
      " 4   oldbalanceOrg   float64\n",
      " 5   newbalanceOrig  float64\n",
      " 6   nameDest        object \n",
      " 7   oldbalanceDest  float64\n",
      " 8   newbalanceDest  float64\n",
      " 9   isFraud         int64  \n",
      " 10  isFlaggedFraud  int64  \n",
      "dtypes: float64(5), int64(3), object(3)\n",
      "memory usage: 534.0+ MB\n"
     ]
    }
   ],
   "source": [
    "df.info()"
   ]
  },
  {
   "cell_type": "code",
   "execution_count": 25,
   "id": "8a2359d9-3d4c-4104-9954-cf38dfbee761",
   "metadata": {},
   "outputs": [
    {
     "data": {
      "text/html": [
       "<div>\n",
       "<style scoped>\n",
       "    .dataframe tbody tr th:only-of-type {\n",
       "        vertical-align: middle;\n",
       "    }\n",
       "\n",
       "    .dataframe tbody tr th {\n",
       "        vertical-align: top;\n",
       "    }\n",
       "\n",
       "    .dataframe thead th {\n",
       "        text-align: right;\n",
       "    }\n",
       "</style>\n",
       "<table border=\"1\" class=\"dataframe\">\n",
       "  <thead>\n",
       "    <tr style=\"text-align: right;\">\n",
       "      <th></th>\n",
       "      <th>step</th>\n",
       "      <th>amount</th>\n",
       "      <th>oldbalanceOrg</th>\n",
       "      <th>newbalanceOrig</th>\n",
       "      <th>oldbalanceDest</th>\n",
       "      <th>newbalanceDest</th>\n",
       "      <th>isFraud</th>\n",
       "      <th>isFlaggedFraud</th>\n",
       "    </tr>\n",
       "  </thead>\n",
       "  <tbody>\n",
       "    <tr>\n",
       "      <th>count</th>\n",
       "      <td>6.362620e+06</td>\n",
       "      <td>6.362620e+06</td>\n",
       "      <td>6.362620e+06</td>\n",
       "      <td>6.362620e+06</td>\n",
       "      <td>6.362620e+06</td>\n",
       "      <td>6.362620e+06</td>\n",
       "      <td>6.362620e+06</td>\n",
       "      <td>6.362620e+06</td>\n",
       "    </tr>\n",
       "    <tr>\n",
       "      <th>mean</th>\n",
       "      <td>2.433972e+02</td>\n",
       "      <td>1.798619e+05</td>\n",
       "      <td>8.338831e+05</td>\n",
       "      <td>8.551137e+05</td>\n",
       "      <td>1.100702e+06</td>\n",
       "      <td>1.224996e+06</td>\n",
       "      <td>1.290820e-03</td>\n",
       "      <td>2.514687e-06</td>\n",
       "    </tr>\n",
       "    <tr>\n",
       "      <th>std</th>\n",
       "      <td>1.423320e+02</td>\n",
       "      <td>6.038582e+05</td>\n",
       "      <td>2.888243e+06</td>\n",
       "      <td>2.924049e+06</td>\n",
       "      <td>3.399180e+06</td>\n",
       "      <td>3.674129e+06</td>\n",
       "      <td>3.590480e-02</td>\n",
       "      <td>1.585775e-03</td>\n",
       "    </tr>\n",
       "    <tr>\n",
       "      <th>min</th>\n",
       "      <td>1.000000e+00</td>\n",
       "      <td>0.000000e+00</td>\n",
       "      <td>0.000000e+00</td>\n",
       "      <td>0.000000e+00</td>\n",
       "      <td>0.000000e+00</td>\n",
       "      <td>0.000000e+00</td>\n",
       "      <td>0.000000e+00</td>\n",
       "      <td>0.000000e+00</td>\n",
       "    </tr>\n",
       "    <tr>\n",
       "      <th>25%</th>\n",
       "      <td>1.560000e+02</td>\n",
       "      <td>1.338957e+04</td>\n",
       "      <td>0.000000e+00</td>\n",
       "      <td>0.000000e+00</td>\n",
       "      <td>0.000000e+00</td>\n",
       "      <td>0.000000e+00</td>\n",
       "      <td>0.000000e+00</td>\n",
       "      <td>0.000000e+00</td>\n",
       "    </tr>\n",
       "    <tr>\n",
       "      <th>50%</th>\n",
       "      <td>2.390000e+02</td>\n",
       "      <td>7.487194e+04</td>\n",
       "      <td>1.420800e+04</td>\n",
       "      <td>0.000000e+00</td>\n",
       "      <td>1.327057e+05</td>\n",
       "      <td>2.146614e+05</td>\n",
       "      <td>0.000000e+00</td>\n",
       "      <td>0.000000e+00</td>\n",
       "    </tr>\n",
       "    <tr>\n",
       "      <th>75%</th>\n",
       "      <td>3.350000e+02</td>\n",
       "      <td>2.087215e+05</td>\n",
       "      <td>1.073152e+05</td>\n",
       "      <td>1.442584e+05</td>\n",
       "      <td>9.430367e+05</td>\n",
       "      <td>1.111909e+06</td>\n",
       "      <td>0.000000e+00</td>\n",
       "      <td>0.000000e+00</td>\n",
       "    </tr>\n",
       "    <tr>\n",
       "      <th>max</th>\n",
       "      <td>7.430000e+02</td>\n",
       "      <td>9.244552e+07</td>\n",
       "      <td>5.958504e+07</td>\n",
       "      <td>4.958504e+07</td>\n",
       "      <td>3.560159e+08</td>\n",
       "      <td>3.561793e+08</td>\n",
       "      <td>1.000000e+00</td>\n",
       "      <td>1.000000e+00</td>\n",
       "    </tr>\n",
       "  </tbody>\n",
       "</table>\n",
       "</div>"
      ],
      "text/plain": [
       "               step        amount  oldbalanceOrg  newbalanceOrig  \\\n",
       "count  6.362620e+06  6.362620e+06   6.362620e+06    6.362620e+06   \n",
       "mean   2.433972e+02  1.798619e+05   8.338831e+05    8.551137e+05   \n",
       "std    1.423320e+02  6.038582e+05   2.888243e+06    2.924049e+06   \n",
       "min    1.000000e+00  0.000000e+00   0.000000e+00    0.000000e+00   \n",
       "25%    1.560000e+02  1.338957e+04   0.000000e+00    0.000000e+00   \n",
       "50%    2.390000e+02  7.487194e+04   1.420800e+04    0.000000e+00   \n",
       "75%    3.350000e+02  2.087215e+05   1.073152e+05    1.442584e+05   \n",
       "max    7.430000e+02  9.244552e+07   5.958504e+07    4.958504e+07   \n",
       "\n",
       "       oldbalanceDest  newbalanceDest       isFraud  isFlaggedFraud  \n",
       "count    6.362620e+06    6.362620e+06  6.362620e+06    6.362620e+06  \n",
       "mean     1.100702e+06    1.224996e+06  1.290820e-03    2.514687e-06  \n",
       "std      3.399180e+06    3.674129e+06  3.590480e-02    1.585775e-03  \n",
       "min      0.000000e+00    0.000000e+00  0.000000e+00    0.000000e+00  \n",
       "25%      0.000000e+00    0.000000e+00  0.000000e+00    0.000000e+00  \n",
       "50%      1.327057e+05    2.146614e+05  0.000000e+00    0.000000e+00  \n",
       "75%      9.430367e+05    1.111909e+06  0.000000e+00    0.000000e+00  \n",
       "max      3.560159e+08    3.561793e+08  1.000000e+00    1.000000e+00  "
      ]
     },
     "execution_count": 25,
     "metadata": {},
     "output_type": "execute_result"
    }
   ],
   "source": [
    "df.describe()"
   ]
  },
  {
   "cell_type": "code",
   "execution_count": 27,
   "id": "e9638f81-aec8-4154-bd3b-6bf1c6a3542f",
   "metadata": {},
   "outputs": [
    {
     "data": {
      "text/plain": [
       "step              0\n",
       "type              0\n",
       "amount            0\n",
       "nameOrig          0\n",
       "oldbalanceOrg     0\n",
       "newbalanceOrig    0\n",
       "nameDest          0\n",
       "oldbalanceDest    0\n",
       "newbalanceDest    0\n",
       "isFraud           0\n",
       "isFlaggedFraud    0\n",
       "dtype: int64"
      ]
     },
     "execution_count": 27,
     "metadata": {},
     "output_type": "execute_result"
    }
   ],
   "source": [
    "df.isnull().sum()"
   ]
  },
  {
   "cell_type": "code",
   "execution_count": 39,
   "id": "ad4f3a59-f4cb-4d5a-89a8-a750031e6a34",
   "metadata": {},
   "outputs": [
    {
     "name": "stdout",
     "output_type": "stream",
     "text": [
      "Shape: (6362620, 11)\n",
      "Columns: ['step', 'type', 'amount', 'nameOrig', 'oldbalanceOrg', 'newbalanceOrig', 'nameDest', 'oldbalanceDest', 'newbalanceDest', 'isFraud', 'isFlaggedFraud']\n",
      "dtypes:\n",
      " float64    5\n",
      "int64      3\n",
      "object     3\n",
      "Name: count, dtype: int64\n",
      "Missing values (top 10):\n",
      " step              0\n",
      "type              0\n",
      "amount            0\n",
      "nameOrig          0\n",
      "oldbalanceOrg     0\n",
      "newbalanceOrig    0\n",
      "nameDest          0\n",
      "oldbalanceDest    0\n",
      "newbalanceDest    0\n",
      "isFraud           0\n",
      "dtype: int64\n"
     ]
    }
   ],
   "source": [
    "print(\"Shape:\", df.shape)\n",
    "print(\"Columns:\", list(df.columns))\n",
    "print(\"dtypes:\\n\", df.dtypes.value_counts())\n",
    "print(\"Missing values (top 10):\\n\", df.isna().sum().sort_values(ascending=False).head(10))"
   ]
  },
  {
   "cell_type": "markdown",
   "id": "df02c5eb-6ed5-40d7-a687-f1497c58621a",
   "metadata": {},
   "source": [
    "### Feature engineering (only if columns exist)"
   ]
  },
  {
   "cell_type": "code",
   "execution_count": 41,
   "id": "d994d696-92dc-40d2-adc3-270b4a85eab2",
   "metadata": {},
   "outputs": [],
   "source": [
    "def safe_diff(colA, colB):\n",
    "    return (df[colA] if colA in df.columns else 0) - (df[colB] if colB in df.columns else 0)\n",
    "\n",
    "if all(c in df.columns for c in [\"oldbalanceOrg\",\"newbalanceOrig\",\"amount\"]):\n",
    "    df[\"deltaOrig\"] = df[\"oldbalanceOrg\"] - df[\"newbalanceOrig\"] - df[\"amount\"]\n",
    "    df[\"errorOrig\"] = df[\"newbalanceOrig\"] + df[\"amount\"] - df[\"oldbalanceOrg\"]\n",
    "if all(c in df.columns for c in [\"newbalanceDest\",\"oldbalanceDest\",\"amount\"]):\n",
    "    df[\"deltaDest\"] = df[\"newbalanceDest\"] - df[\"oldbalanceDest\"] - df[\"amount\"]\n",
    "    df[\"errorDest\"] = df[\"oldbalanceDest\"] + df[\"amount\"] - df[\"newbalanceDest\"]\n",
    "if all(c in df.columns for c in [\"oldbalanceOrg\",\"newbalanceOrig\",\"newbalanceDest\",\"oldbalanceDest\"]):\n",
    "    df[\"balanceDiff\"] = (df[\"oldbalanceOrg\"] - df[\"newbalanceOrig\"]) - (df[\"newbalanceDest\"] - df[\"oldbalanceDest\"])"
   ]
  },
  {
   "cell_type": "markdown",
   "id": "e08f1619-2502-4016-9f42-7b95a66d5814",
   "metadata": {},
   "source": [
    "### Drop obvious IDs if present"
   ]
  },
  {
   "cell_type": "code",
   "execution_count": 51,
   "id": "d3c33aec-8ef0-47a0-9e93-b7e8af711236",
   "metadata": {},
   "outputs": [],
   "source": [
    "for col in [\"nameOrig\",\"nameDest\"]:\n",
    "    if col in df.columns:\n",
    "        df.drop(columns=[col], inplace=True)"
   ]
  },
  {
   "cell_type": "markdown",
   "id": "aff6c320-0823-4fa0-9be3-637c043c7403",
   "metadata": {},
   "source": [
    "### Winsorize numeric outliers (IQR caps)"
   ]
  },
  {
   "cell_type": "code",
   "execution_count": 54,
   "id": "803a8954-3651-487c-a2da-885756d7908e",
   "metadata": {},
   "outputs": [],
   "source": [
    "num_cols_all = df.select_dtypes(include=[np.number]).columns.tolist()\n",
    "if \"isFraud\" in num_cols_all:\n",
    "    num_cols_all = [c for c in num_cols_all if c not in [\"isFraud\",\"isFlaggedFraud\"]]\n",
    "\n",
    "def winsorize_iqr(frame, cols):\n",
    "    frame = frame.copy()\n",
    "    for c in cols:\n",
    "        x = frame[c].values\n",
    "        if np.isfinite(x).sum() == 0: \n",
    "            continue\n",
    "        q1, q3 = np.nanpercentile(x, [25, 75])\n",
    "        iqr = q3 - q1\n",
    "        low, high = q1 - 1.5*iqr, q3 + 1.5*iqr\n",
    "        frame[c] = np.clip(x, low, high)\n",
    "    return frame\n",
    "\n",
    "df = winsorize_iqr(df, num_cols_all)"
   ]
  },
  {
   "cell_type": "markdown",
   "id": "672d86cc-a052-4644-a8fe-790c0f8066d6",
   "metadata": {},
   "source": [
    "### Remove infs & fill tiny NaNs (rare)"
   ]
  },
  {
   "cell_type": "code",
   "execution_count": 57,
   "id": "f0ada082-168a-4791-82c8-db9e37502b42",
   "metadata": {},
   "outputs": [],
   "source": [
    "df.replace([np.inf, -np.inf], np.nan, inplace=True)\n",
    "df[num_cols_all] = df[num_cols_all].fillna(0.0)\n"
   ]
  },
  {
   "cell_type": "markdown",
   "id": "ff24bc8d-a6d3-4597-867f-e4585f988c70",
   "metadata": {},
   "source": [
    "# 2-MULTICOLLINEARITY (VIF via sklearn)"
   ]
  },
  {
   "cell_type": "code",
   "execution_count": 65,
   "id": "750eeca7-4c52-4534-a560-84cd9cb16341",
   "metadata": {},
   "outputs": [
    {
     "name": "stdout",
     "output_type": "stream",
     "text": [
      "Dropped for VIF (>10): ['deltaOrig', 'deltaDest', 'newbalanceDest', 'amount']\n"
     ]
    }
   ],
   "source": [
    "def compute_vif_sklearn(data, cols):\n",
    "    vif = []\n",
    "    X_all = data[cols].values\n",
    "    for i, col in enumerate(cols):\n",
    "        y = X_all[:, i]\n",
    "        X = np.delete(X_all, i, axis=1)\n",
    "        if X.shape[1] == 0:\n",
    "            vif.append((col, 1.0))\n",
    "            continue\n",
    "        # Guard against constant columns\n",
    "        if np.allclose(X.std(axis=0), 0):\n",
    "            vif.append((col, np.inf))\n",
    "            continue\n",
    "        lr = LinearRegression()\n",
    "        lr.fit(X, y)\n",
    "        r2 = lr.score(X, y)\n",
    "        vif_val = np.inf if r2 >= 0.999999 else 1.0 / max(1e-9, (1.0 - r2))\n",
    "        vif.append((col, vif_val))\n",
    "    return pd.DataFrame(vif, columns=[\"feature\",\"VIF\"]).sort_values(\"VIF\", ascending=False)\n",
    "\n",
    "num_for_vif = [c for c in num_cols_all if df[c].std() > 0]\n",
    "to_drop = []\n",
    "# Iteratively drop highest VIF > 10\n",
    "while True:\n",
    "    if len(num_for_vif) <= 1:\n",
    "        break\n",
    "    vif_df = compute_vif_sklearn(df, num_for_vif)\n",
    "    top_feat, top_vif = vif_df.iloc[0][\"feature\"], vif_df.iloc[0][\"VIF\"]\n",
    "    if not np.isfinite(top_vif) or top_vif > 10:\n",
    "        to_drop.append(top_feat)\n",
    "        num_for_vif.remove(top_feat)\n",
    "    else:\n",
    "        break\n",
    "\n",
    "print(\"Dropped for VIF (>10):\", to_drop if to_drop else \"None\")\n"
   ]
  },
  {
   "cell_type": "markdown",
   "id": "685d5601-db76-4653-99b0-e5d22b85c2ec",
   "metadata": {},
   "source": [
    "# 3-DEFINE FEATURES/TARGET & TRAIN/VALID SPLIT"
   ]
  },
  {
   "cell_type": "code",
   "execution_count": 67,
   "id": "a2f97404-3644-450d-bc67-a789c2a52332",
   "metadata": {},
   "outputs": [
    {
     "name": "stdout",
     "output_type": "stream",
     "text": [
      "Class balance (train): Counter({0: 5083526, 1: 6570})\n",
      "Class balance (valid): Counter({0: 1270881, 1: 1643})\n"
     ]
    }
   ],
   "source": [
    "target_col = \"isFraud\"\n",
    "if target_col not in df.columns:\n",
    "    raise ValueError(\"Column 'isFraud' not found in your CSV. Please check the dataset.\")\n",
    "\n",
    "# Categorical columns: default to 'type' if present; otherwise any object/category columns\n",
    "if \"type\" in df.columns:\n",
    "    cat_cols = [\"type\"]\n",
    "else:\n",
    "    cat_cols = df.select_dtypes(include=[\"object\",\"category\"]).columns.tolist()\n",
    "\n",
    "# Final numeric set after VIF pruning\n",
    "num_cols = [c for c in num_for_vif if c in df.columns]\n",
    "\n",
    "# Build X, y (only keep columns that exist)\n",
    "use_cols = [c for c in (cat_cols + num_cols) if c in df.columns]\n",
    "X = df[use_cols].copy()\n",
    "y = df[target_col].astype(int).copy()\n",
    "\n",
    "# Handle rare case: no categorical columns\n",
    "if len(cat_cols) == 0:\n",
    "    preprocess = ColumnTransformer([\n",
    "        (\"scale\", StandardScaler(with_mean=False), num_cols)\n",
    "    ], remainder=\"drop\")\n",
    "else:\n",
    "    preprocess = ColumnTransformer([\n",
    "        (\"onehot\", OneHotEncoder(handle_unknown=\"ignore\"), cat_cols),\n",
    "        (\"scale\", StandardScaler(with_mean=False), num_cols)\n",
    "    ], remainder=\"drop\")\n",
    "\n",
    "# Train/valid split (stratified)\n",
    "X_train, X_valid, y_train, y_valid = train_test_split(\n",
    "    X, y, test_size=0.2, stratify=y, random_state=42\n",
    ")\n",
    "print(\"Class balance (train):\", Counter(y_train))\n",
    "print(\"Class balance (valid):\", Counter(y_valid))"
   ]
  },
  {
   "cell_type": "markdown",
   "id": "09a1d085-b498-4764-83b5-1cc438e63c55",
   "metadata": {},
   "source": [
    "# 4-MODELS & EVALUATION"
   ]
  },
  {
   "cell_type": "code",
   "execution_count": 71,
   "id": "68be7d18-bea3-4919-8f50-c23cd6a6f9b2",
   "metadata": {},
   "outputs": [
    {
     "data": {
      "image/png": "[encoded data removed]",
      "text/plain": [
       "<Figure size 640x480 with 1 Axes>"
      ]
     },
     "metadata": {},
     "output_type": "display_data"
    },
    {
     "data": {
      "image/png": "[encoded data removed]",
      "text/plain": [
       "<Figure size 640x480 with 1 Axes>"
      ]
     },
     "metadata": {},
     "output_type": "display_data"
    },
    {
     "data": {
      "image/png": "[encoded data removed]",
      "text/plain": [
       "<Figure size 640x480 with 1 Axes>"
      ]
     },
     "metadata": {},
     "output_type": "display_data"
    },
    {
     "data": {
      "image/png": "[encoded data removed]",
      "text/plain": [
       "<Figure size 640x480 with 1 Axes>"
      ]
     },
     "metadata": {},
     "output_type": "display_data"
    },
    {
     "name": "stdout",
     "output_type": "stream",
     "text": [
      "\n",
      "=== Best model: RandomForest ===\n",
      "ROC AUC: 0.9989 | PR AUC: 0.9976\n",
      "Chosen threshold: 0.1177 → Precision=0.9001, Recall=0.9976\n",
      "Confusion Matrix @ tuned threshold:\n",
      " [[1270699     182]\n",
      " [      4    1639]]\n",
      "Classification report @ tuned threshold:\n",
      "               precision    recall  f1-score   support\n",
      "\n",
      "           0      1.000     1.000     1.000   1270881\n",
      "           1      0.900     0.998     0.946      1643\n",
      "\n",
      "    accuracy                          1.000   1272524\n",
      "   macro avg      0.950     0.999     0.973   1272524\n",
      "weighted avg      1.000     1.000     1.000   1272524\n",
      "\n"
     ]
    }
   ],
   "source": [
    "log_reg = Pipeline(steps=[\n",
    "    (\"prep\", preprocess),\n",
    "    (\"clf\", LogisticRegression(max_iter=300, class_weight=\"balanced\"))\n",
    "])\n",
    "rf = Pipeline(steps=[\n",
    "    (\"prep\", preprocess),\n",
    "    (\"clf\", RandomForestClassifier(\n",
    "        n_estimators=150, random_state=42, class_weight=\"balanced\", n_jobs=-1\n",
    "    ))\n",
    "])\n",
    "\n",
    "models = {\"LogisticRegression\": log_reg, \"RandomForest\": rf}\n",
    "results = {}\n",
    "\n",
    "for name, mdl in models.items():\n",
    "    mdl.fit(X_train, y_train)\n",
    "    proba = mdl.predict_proba(X_valid)[:, 1]\n",
    "    roc = roc_auc_score(y_valid, proba)\n",
    "    ap = average_precision_score(y_valid, proba)\n",
    "    fpr, tpr, _ = roc_curve(y_valid, proba)\n",
    "    prec, rec, th = precision_recall_curve(y_valid, proba)\n",
    "\n",
    "    # Threshold: target >= 0.90 precision if feasible; fallback best F1\n",
    "    cand = [(p, r, t) for p, r, t in zip(prec[:-1], rec[:-1], th) if p >= 0.90]\n",
    "    if len(cand) > 0:\n",
    "        best_p, best_r, best_t = max(cand, key=lambda x: x[1])\n",
    "    else:\n",
    "        f1 = 2*(prec*rec)/(prec+rec+1e-9)\n",
    "        idx = int(np.nanargmax(f1))\n",
    "        best_p, best_r, best_t = prec[idx], rec[idx], th[max(0, idx-1)]\n",
    "\n",
    "    preds = (proba >= best_t).astype(int)\n",
    "    cm = confusion_matrix(y_valid, preds)\n",
    "    report = classification_report(y_valid, preds, digits=3, zero_division=0)\n",
    "\n",
    "    results[name] = dict(\n",
    "        roc_auc=roc, ap=ap, best_t=best_t, best_p=best_p, best_r=best_r,\n",
    "        confusion_matrix=cm, report=report, proba=proba\n",
    "    )\n",
    "\n",
    "    # Plots (matplotlib only; seaborn not required)\n",
    "    plt.figure()\n",
    "    plt.plot(fpr, tpr); plt.plot([0,1],[0,1],\"--\")\n",
    "    plt.xlabel(\"False Positive Rate\"); plt.ylabel(\"True Positive Rate\")\n",
    "    plt.title(f\"ROC Curve — {name}\")\n",
    "    plt.show()\n",
    "\n",
    "    plt.figure()\n",
    "    plt.plot(rec, prec)\n",
    "    plt.xlabel(\"Recall\"); plt.ylabel(\"Precision\")\n",
    "    plt.title(f\"Precision–Recall Curve — {name}\")\n",
    "    plt.show()\n",
    "\n",
    "# Pick best by PR AUC (more informative for imbalanced data)\n",
    "best_name = max(results, key=lambda k: results[k][\"ap\"])\n",
    "best = results[best_name]\n",
    "print(f\"\\n=== Best model: {best_name} ===\")\n",
    "print(f\"ROC AUC: {best['roc_auc']:.4f} | PR AUC: {best['ap']:.4f}\")\n",
    "print(f\"Chosen threshold: {best['best_t']:.4f} → Precision={best['best_p']:.4f}, Recall={best['best_r']:.4f}\")\n",
    "print(\"Confusion Matrix @ tuned threshold:\\n\", best[\"confusion_matrix\"])\n",
    "print(\"Classification report @ tuned threshold:\\n\", best[\"report\"])\n"
   ]
  },
  {
   "cell_type": "markdown",
   "id": "93142f4b-686c-4515-9c34-5c980d2ebb58",
   "metadata": {},
   "source": [
    "# 5-KEY FACTORS (Permutation Importance)"
   ]
  },
  {
   "cell_type": "code",
   "execution_count": 76,
   "id": "c7293f13-01a9-433a-90e2-7c7d8878c578",
   "metadata": {},
   "outputs": [
    {
     "name": "stdout",
     "output_type": "stream",
     "text": [
      "\n",
      "Top features (Permutation Importance):\n",
      "           feature  importance\n",
      "5       errorOrig    0.073678\n",
      "3  newbalanceOrig    0.026481\n",
      "0            type    0.000469\n",
      "7     balanceDiff    0.000022\n",
      "4  oldbalanceDest    0.000018\n",
      "2   oldbalanceOrg    0.000013\n",
      "6       errorDest    0.000003\n",
      "1            step    0.000002\n"
     ]
    },
    {
     "data": {
      "image/png": "[encoded data removed]",
      "text/plain": [
       "<Figure size 640x480 with 1 Axes>"
      ]
     },
     "metadata": {},
     "output_type": "display_data"
    }
   ],
   "source": [
    "best_model = models[best_name]\n",
    "perm = permutation_importance(best_model, X_valid, y_valid, n_repeats=3, random_state=42, n_jobs=1)\n",
    "imp_df = pd.DataFrame({\n",
    "    \"feature\": list(X_valid.columns),\n",
    "    \"importance\": perm.importances_mean\n",
    "}).sort_values(\"importance\", ascending=False)\n",
    "print(\"\\nTop features (Permutation Importance):\\n\", imp_df.head(12))\n",
    "\n",
    "# Optional: visualize top features\n",
    "topN = imp_df.head(15).iloc[::-1]\n",
    "plt.figure()\n",
    "plt.barh(topN[\"feature\"], topN[\"importance\"])\n",
    "plt.xlabel(\"Permutation importance (mean)\")\n",
    "plt.title(f\"Top Feature Importances — {best_name}\")\n",
    "plt.tight_layout()\n",
    "plt.show()\n"
   ]
  },
  {
   "cell_type": "markdown",
   "id": "4b8ae6b2-7f1a-4eb5-a127-6553b7d207c7",
   "metadata": {},
   "source": [
    "# 6-SHORT, ACTIONABLE TAKEAWAYS"
   ]
  },
  {
   "cell_type": "code",
   "execution_count": 75,
   "id": "d39d3072-dac8-4c4f-9eb7-2933c80e2e89",
   "metadata": {},
   "outputs": [
    {
     "name": "stdout",
     "output_type": "stream",
     "text": [
      "\n",
      "Quick takeaways:\n",
      "- Balance-consistency features like delta/error terms are typically strong signals if present.\n",
      "- TRANSFER/CASH_OUT (if 'type' is available) usually carries higher risk than PAYMENT.\n",
      "- Use the tuned threshold above in production to trade recall for high precision (fewer false positives).\n"
     ]
    }
   ],
   "source": [
    "print(\"\\nQuick takeaways:\")\n",
    "print(\"- Balance-consistency features like delta/error terms are typically strong signals if present.\")\n",
    "print(\"- TRANSFER/CASH_OUT (if 'type' is available) usually carries higher risk than PAYMENT.\")\n",
    "print(\"- Use the tuned threshold above in production to trade recall for high precision (fewer false positives).\")"
   ]
  },
  {
   "cell_type": "code",
   "execution_count": null,
   "id": "0c720e5a-d32c-4ae3-ac8f-9028aefaa133",
   "metadata": {},
   "outputs": [],
   "source": []
  }
 ],
 "metadata": {
  "kernelspec": {
   "display_name": "Python 3 (ipykernel)",
   "language": "python",
   "name": "python3"
  },
  "language_info": {
   "codemirror_mode": {
    "name": "ipython",
    "version": 3
   },
   "file_extension": ".py",
   "mimetype": "text/x-python",
   "name": "python",
   "nbconvert_exporter": "python",
   "pygments_lexer": "ipython3",
   "version": "3.12.4"
  }
 },
 "nbformat": 4,
 "nbformat_minor": 5
}
